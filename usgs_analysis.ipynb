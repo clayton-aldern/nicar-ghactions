{
  "nbformat": 4,
  "nbformat_minor": 0,
  "metadata": {
    "colab": {
      "name": "usgs_analysis.ipynb",
      "provenance": [],
      "collapsed_sections": [],
      "include_colab_link": true
    },
    "kernelspec": {
      "name": "python3",
      "display_name": "Python 3"
    },
    "language_info": {
      "name": "python"
    }
  },
  "cells": [
    {
      "cell_type": "markdown",
      "metadata": {
        "id": "view-in-github",
        "colab_type": "text"
      },
      "source": [
        "<a href=\"https://colab.research.google.com/github/clayton-aldern/nicar-ghactions/blob/main/usgs_analysis.ipynb\" target=\"_parent\"><img src=\"https://colab.research.google.com/assets/colab-badge.svg\" alt=\"Open In Colab\"/></a>"
      ]
    },
    {
      "cell_type": "markdown",
      "source": [
        "# Import Libraries"
      ],
      "metadata": {
        "id": "7IgJVp_g8cTc"
      }
    },
    {
      "cell_type": "code",
      "source": [
        "import pandas as pd # import pandas library for data manipulation and analysis"
      ],
      "metadata": {
        "id": "udZZnQwp8iEp"
      },
      "execution_count": 1,
      "outputs": []
    },
    {
      "cell_type": "markdown",
      "source": [
        "# Import and clean data from GitHub\n",
        "This code chunk imports the usgs_main.csv from the repo. It then cleans the data by taking the date column and separating it into the following columns: \n",
        "\n",
        "  - date: year-month-day format\n",
        "  - time: the time of the earthquake in 12 hour format \n",
        "  - military_time: the time of the earthquake in 24 hour format\n",
        "\n"
      ],
      "metadata": {
        "id": "SYsgAY0D8kXz"
      }
    },
    {
      "cell_type": "code",
      "execution_count": 8,
      "metadata": {
        "id": "-z2USN5TJYdS",
        "outputId": "d3e2f3ed-13fb-48c2-acde-3c0fa94c8b4d",
        "colab": {
          "base_uri": "https://localhost:8080/",
          "height": 386
        }
      },
      "outputs": [
        {
          "output_type": "execute_result",
          "data": {
            "text/html": [
              "\n",
              "  <div id=\"df-e21de903-f983-45d5-a614-faf9b67ecea9\">\n",
              "    <div class=\"colab-df-container\">\n",
              "      <div>\n",
              "<style scoped>\n",
              "    .dataframe tbody tr th:only-of-type {\n",
              "        vertical-align: middle;\n",
              "    }\n",
              "\n",
              "    .dataframe tbody tr th {\n",
              "        vertical-align: top;\n",
              "    }\n",
              "\n",
              "    .dataframe thead th {\n",
              "        text-align: right;\n",
              "    }\n",
              "</style>\n",
              "<table border=\"1\" class=\"dataframe\">\n",
              "  <thead>\n",
              "    <tr style=\"text-align: right;\">\n",
              "      <th></th>\n",
              "      <th>time</th>\n",
              "      <th>latitude</th>\n",
              "      <th>longitude</th>\n",
              "      <th>depth</th>\n",
              "      <th>mag</th>\n",
              "      <th>magType</th>\n",
              "      <th>nst</th>\n",
              "      <th>gap</th>\n",
              "      <th>dmin</th>\n",
              "      <th>rms</th>\n",
              "      <th>...</th>\n",
              "      <th>horizontalError</th>\n",
              "      <th>depthError</th>\n",
              "      <th>magError</th>\n",
              "      <th>magNst</th>\n",
              "      <th>status</th>\n",
              "      <th>locationSource</th>\n",
              "      <th>magSource</th>\n",
              "      <th>date_time</th>\n",
              "      <th>date</th>\n",
              "      <th>military_time</th>\n",
              "    </tr>\n",
              "  </thead>\n",
              "  <tbody>\n",
              "    <tr>\n",
              "      <th>0</th>\n",
              "      <td>09:25 PM</td>\n",
              "      <td>35.596668</td>\n",
              "      <td>-120.271332</td>\n",
              "      <td>11.570000</td>\n",
              "      <td>2.31</td>\n",
              "      <td>md</td>\n",
              "      <td>5.0</td>\n",
              "      <td>178.0</td>\n",
              "      <td>0.15900</td>\n",
              "      <td>0.01</td>\n",
              "      <td>...</td>\n",
              "      <td>3.14</td>\n",
              "      <td>3.51</td>\n",
              "      <td>0.760000</td>\n",
              "      <td>3.0</td>\n",
              "      <td>automatic</td>\n",
              "      <td>nc</td>\n",
              "      <td>nc</td>\n",
              "      <td>2022-03-04 21:25:05.130000+00:00</td>\n",
              "      <td>2022-03-04</td>\n",
              "      <td>21:25:05.130000</td>\n",
              "    </tr>\n",
              "    <tr>\n",
              "      <th>1</th>\n",
              "      <td>09:20 PM</td>\n",
              "      <td>35.929167</td>\n",
              "      <td>-117.660833</td>\n",
              "      <td>3.250000</td>\n",
              "      <td>0.88</td>\n",
              "      <td>ml</td>\n",
              "      <td>9.0</td>\n",
              "      <td>73.0</td>\n",
              "      <td>0.02053</td>\n",
              "      <td>0.13</td>\n",
              "      <td>...</td>\n",
              "      <td>0.33</td>\n",
              "      <td>0.74</td>\n",
              "      <td>0.055000</td>\n",
              "      <td>10.0</td>\n",
              "      <td>automatic</td>\n",
              "      <td>ci</td>\n",
              "      <td>ci</td>\n",
              "      <td>2022-03-04 21:20:43.590000+00:00</td>\n",
              "      <td>2022-03-04</td>\n",
              "      <td>21:20:43.590000</td>\n",
              "    </tr>\n",
              "    <tr>\n",
              "      <th>2</th>\n",
              "      <td>09:19 PM</td>\n",
              "      <td>62.360200</td>\n",
              "      <td>-149.634500</td>\n",
              "      <td>9.800000</td>\n",
              "      <td>1.40</td>\n",
              "      <td>ml</td>\n",
              "      <td>NaN</td>\n",
              "      <td>NaN</td>\n",
              "      <td>NaN</td>\n",
              "      <td>0.52</td>\n",
              "      <td>...</td>\n",
              "      <td>NaN</td>\n",
              "      <td>0.50</td>\n",
              "      <td>NaN</td>\n",
              "      <td>NaN</td>\n",
              "      <td>automatic</td>\n",
              "      <td>ak</td>\n",
              "      <td>ak</td>\n",
              "      <td>2022-03-04 21:19:08.215000+00:00</td>\n",
              "      <td>2022-03-04</td>\n",
              "      <td>21:19:08.215000</td>\n",
              "    </tr>\n",
              "    <tr>\n",
              "      <th>3</th>\n",
              "      <td>09:05 PM</td>\n",
              "      <td>17.961333</td>\n",
              "      <td>-66.848833</td>\n",
              "      <td>13.230000</td>\n",
              "      <td>2.37</td>\n",
              "      <td>md</td>\n",
              "      <td>7.0</td>\n",
              "      <td>207.0</td>\n",
              "      <td>NaN</td>\n",
              "      <td>0.14</td>\n",
              "      <td>...</td>\n",
              "      <td>0.79</td>\n",
              "      <td>0.46</td>\n",
              "      <td>0.018123</td>\n",
              "      <td>3.0</td>\n",
              "      <td>reviewed</td>\n",
              "      <td>pr</td>\n",
              "      <td>pr</td>\n",
              "      <td>2022-03-04 21:05:59.100000+00:00</td>\n",
              "      <td>2022-03-04</td>\n",
              "      <td>21:05:59.100000</td>\n",
              "    </tr>\n",
              "    <tr>\n",
              "      <th>4</th>\n",
              "      <td>08:56 PM</td>\n",
              "      <td>19.183666</td>\n",
              "      <td>-155.483002</td>\n",
              "      <td>30.709999</td>\n",
              "      <td>1.83</td>\n",
              "      <td>md</td>\n",
              "      <td>33.0</td>\n",
              "      <td>77.0</td>\n",
              "      <td>NaN</td>\n",
              "      <td>0.13</td>\n",
              "      <td>...</td>\n",
              "      <td>0.66</td>\n",
              "      <td>0.91</td>\n",
              "      <td>0.910000</td>\n",
              "      <td>8.0</td>\n",
              "      <td>automatic</td>\n",
              "      <td>hv</td>\n",
              "      <td>hv</td>\n",
              "      <td>2022-03-04 20:56:56.870000+00:00</td>\n",
              "      <td>2022-03-04</td>\n",
              "      <td>20:56:56.870000</td>\n",
              "    </tr>\n",
              "  </tbody>\n",
              "</table>\n",
              "<p>5 rows × 25 columns</p>\n",
              "</div>\n",
              "      <button class=\"colab-df-convert\" onclick=\"convertToInteractive('df-e21de903-f983-45d5-a614-faf9b67ecea9')\"\n",
              "              title=\"Convert this dataframe to an interactive table.\"\n",
              "              style=\"display:none;\">\n",
              "        \n",
              "  <svg xmlns=\"http://www.w3.org/2000/svg\" height=\"24px\"viewBox=\"0 0 24 24\"\n",
              "       width=\"24px\">\n",
              "    <path d=\"M0 0h24v24H0V0z\" fill=\"none\"/>\n",
              "    <path d=\"M18.56 5.44l.94 2.06.94-2.06 2.06-.94-2.06-.94-.94-2.06-.94 2.06-2.06.94zm-11 1L8.5 8.5l.94-2.06 2.06-.94-2.06-.94L8.5 2.5l-.94 2.06-2.06.94zm10 10l.94 2.06.94-2.06 2.06-.94-2.06-.94-.94-2.06-.94 2.06-2.06.94z\"/><path d=\"M17.41 7.96l-1.37-1.37c-.4-.4-.92-.59-1.43-.59-.52 0-1.04.2-1.43.59L10.3 9.45l-7.72 7.72c-.78.78-.78 2.05 0 2.83L4 21.41c.39.39.9.59 1.41.59.51 0 1.02-.2 1.41-.59l7.78-7.78 2.81-2.81c.8-.78.8-2.07 0-2.86zM5.41 20L4 18.59l7.72-7.72 1.47 1.35L5.41 20z\"/>\n",
              "  </svg>\n",
              "      </button>\n",
              "      \n",
              "  <style>\n",
              "    .colab-df-container {\n",
              "      display:flex;\n",
              "      flex-wrap:wrap;\n",
              "      gap: 12px;\n",
              "    }\n",
              "\n",
              "    .colab-df-convert {\n",
              "      background-color: #E8F0FE;\n",
              "      border: none;\n",
              "      border-radius: 50%;\n",
              "      cursor: pointer;\n",
              "      display: none;\n",
              "      fill: #1967D2;\n",
              "      height: 32px;\n",
              "      padding: 0 0 0 0;\n",
              "      width: 32px;\n",
              "    }\n",
              "\n",
              "    .colab-df-convert:hover {\n",
              "      background-color: #E2EBFA;\n",
              "      box-shadow: 0px 1px 2px rgba(60, 64, 67, 0.3), 0px 1px 3px 1px rgba(60, 64, 67, 0.15);\n",
              "      fill: #174EA6;\n",
              "    }\n",
              "\n",
              "    [theme=dark] .colab-df-convert {\n",
              "      background-color: #3B4455;\n",
              "      fill: #D2E3FC;\n",
              "    }\n",
              "\n",
              "    [theme=dark] .colab-df-convert:hover {\n",
              "      background-color: #434B5C;\n",
              "      box-shadow: 0px 1px 3px 1px rgba(0, 0, 0, 0.15);\n",
              "      filter: drop-shadow(0px 1px 2px rgba(0, 0, 0, 0.3));\n",
              "      fill: #FFFFFF;\n",
              "    }\n",
              "  </style>\n",
              "\n",
              "      <script>\n",
              "        const buttonEl =\n",
              "          document.querySelector('#df-e21de903-f983-45d5-a614-faf9b67ecea9 button.colab-df-convert');\n",
              "        buttonEl.style.display =\n",
              "          google.colab.kernel.accessAllowed ? 'block' : 'none';\n",
              "\n",
              "        async function convertToInteractive(key) {\n",
              "          const element = document.querySelector('#df-e21de903-f983-45d5-a614-faf9b67ecea9');\n",
              "          const dataTable =\n",
              "            await google.colab.kernel.invokeFunction('convertToInteractive',\n",
              "                                                     [key], {});\n",
              "          if (!dataTable) return;\n",
              "\n",
              "          const docLinkHtml = 'Like what you see? Visit the ' +\n",
              "            '<a target=\"_blank\" href=https://colab.research.google.com/notebooks/data_table.ipynb>data table notebook</a>'\n",
              "            + ' to learn more about interactive tables.';\n",
              "          element.innerHTML = '';\n",
              "          dataTable['output_type'] = 'display_data';\n",
              "          await google.colab.output.renderOutput(dataTable, element);\n",
              "          const docLink = document.createElement('div');\n",
              "          docLink.innerHTML = docLinkHtml;\n",
              "          element.appendChild(docLink);\n",
              "        }\n",
              "      </script>\n",
              "    </div>\n",
              "  </div>\n",
              "  "
            ],
            "text/plain": [
              "       time   latitude   longitude      depth   mag magType   nst    gap  \\\n",
              "0  09:25 PM  35.596668 -120.271332  11.570000  2.31      md   5.0  178.0   \n",
              "1  09:20 PM  35.929167 -117.660833   3.250000  0.88      ml   9.0   73.0   \n",
              "2  09:19 PM  62.360200 -149.634500   9.800000  1.40      ml   NaN    NaN   \n",
              "3  09:05 PM  17.961333  -66.848833  13.230000  2.37      md   7.0  207.0   \n",
              "4  08:56 PM  19.183666 -155.483002  30.709999  1.83      md  33.0   77.0   \n",
              "\n",
              "      dmin   rms  ... horizontalError depthError  magError magNst     status  \\\n",
              "0  0.15900  0.01  ...            3.14       3.51  0.760000    3.0  automatic   \n",
              "1  0.02053  0.13  ...            0.33       0.74  0.055000   10.0  automatic   \n",
              "2      NaN  0.52  ...             NaN       0.50       NaN    NaN  automatic   \n",
              "3      NaN  0.14  ...            0.79       0.46  0.018123    3.0   reviewed   \n",
              "4      NaN  0.13  ...            0.66       0.91  0.910000    8.0  automatic   \n",
              "\n",
              "   locationSource  magSource                        date_time        date  \\\n",
              "0              nc         nc 2022-03-04 21:25:05.130000+00:00  2022-03-04   \n",
              "1              ci         ci 2022-03-04 21:20:43.590000+00:00  2022-03-04   \n",
              "2              ak         ak 2022-03-04 21:19:08.215000+00:00  2022-03-04   \n",
              "3              pr         pr 2022-03-04 21:05:59.100000+00:00  2022-03-04   \n",
              "4              hv         hv 2022-03-04 20:56:56.870000+00:00  2022-03-04   \n",
              "\n",
              "     military_time  \n",
              "0  21:25:05.130000  \n",
              "1  21:20:43.590000  \n",
              "2  21:19:08.215000  \n",
              "3  21:05:59.100000  \n",
              "4  20:56:56.870000  \n",
              "\n",
              "[5 rows x 25 columns]"
            ]
          },
          "metadata": {},
          "execution_count": 8
        }
      ],
      "source": [
        "\n",
        "\n",
        "# Read in data\n",
        "df_main = pd.read_csv('https://raw.githubusercontent.com/clayton-aldern/nicar-ghactions/main/usgs_main.csv', index_col=None) # Enter the raw url from your repository\n",
        "\n",
        "# Clean data\n",
        "df_main[\"date_time\"] = pd.to_datetime(df_main[\"time\"]) # Convert time to a column called date_time\n",
        "df_main.drop(\"time\", axis = 1) # Drop the old time column\n",
        "\n",
        "df_main = df_main.assign(   \n",
        "    date = df_main[\"date_time\"].dt.date, # Make new column with date in the format year-month-day\n",
        "    time = df_main[\"date_time\"].dt.strftime('%I:%M %p'), # Make new column with 12 hour format\n",
        "    military_time = df_main[\"date_time\"].dt.time # Make new colum with 24 hour format\n",
        "    )\n",
        "\n",
        "df_main.head() # Take a look at the first five rows"
      ]
    },
    {
      "cell_type": "markdown",
      "source": [
        "pd.shape returns a tuple where the first element is the number of rows and the second element is the number of columns. "
      ],
      "metadata": {
        "id": "wruMIlPsKLMm"
      }
    },
    {
      "cell_type": "code",
      "source": [
        "df_main.shape"
      ],
      "metadata": {
        "id": "ac8tMD4WKKcV",
        "outputId": "95f1d4a6-548d-445e-9bf9-b7c4c5c1ecc8",
        "colab": {
          "base_uri": "https://localhost:8080/"
        }
      },
      "execution_count": 9,
      "outputs": [
        {
          "output_type": "execute_result",
          "data": {
            "text/plain": [
              "(241, 25)"
            ]
          },
          "metadata": {},
          "execution_count": 9
        }
      ]
    },
    {
      "cell_type": "markdown",
      "source": [
        "We can filter a column for a specific conditions. The following line returns the row that has the most recent date in the `date_time` column"
      ],
      "metadata": {
        "id": "gSVIGUo_LXpf"
      }
    },
    {
      "cell_type": "code",
      "source": [
        "latest = latest = df_main[df_main[\"date_time\"] == df_main[\"date_time\"].max()]\n",
        "latest"
      ],
      "metadata": {
        "id": "OoioRyQjLtuV",
        "outputId": "8fd89174-7841-4daf-b911-503e2bb77e88",
        "colab": {
          "base_uri": "https://localhost:8080/",
          "height": 191
        }
      },
      "execution_count": 10,
      "outputs": [
        {
          "output_type": "execute_result",
          "data": {
            "text/html": [
              "\n",
              "  <div id=\"df-909078bf-26ab-4d67-b35e-05f7c2d03b85\">\n",
              "    <div class=\"colab-df-container\">\n",
              "      <div>\n",
              "<style scoped>\n",
              "    .dataframe tbody tr th:only-of-type {\n",
              "        vertical-align: middle;\n",
              "    }\n",
              "\n",
              "    .dataframe tbody tr th {\n",
              "        vertical-align: top;\n",
              "    }\n",
              "\n",
              "    .dataframe thead th {\n",
              "        text-align: right;\n",
              "    }\n",
              "</style>\n",
              "<table border=\"1\" class=\"dataframe\">\n",
              "  <thead>\n",
              "    <tr style=\"text-align: right;\">\n",
              "      <th></th>\n",
              "      <th>time</th>\n",
              "      <th>latitude</th>\n",
              "      <th>longitude</th>\n",
              "      <th>depth</th>\n",
              "      <th>mag</th>\n",
              "      <th>magType</th>\n",
              "      <th>nst</th>\n",
              "      <th>gap</th>\n",
              "      <th>dmin</th>\n",
              "      <th>rms</th>\n",
              "      <th>...</th>\n",
              "      <th>horizontalError</th>\n",
              "      <th>depthError</th>\n",
              "      <th>magError</th>\n",
              "      <th>magNst</th>\n",
              "      <th>status</th>\n",
              "      <th>locationSource</th>\n",
              "      <th>magSource</th>\n",
              "      <th>date_time</th>\n",
              "      <th>date</th>\n",
              "      <th>military_time</th>\n",
              "    </tr>\n",
              "  </thead>\n",
              "  <tbody>\n",
              "    <tr>\n",
              "      <th>239</th>\n",
              "      <td>09:28 PM</td>\n",
              "      <td>38.759666</td>\n",
              "      <td>-122.719666</td>\n",
              "      <td>1.61</td>\n",
              "      <td>1.24</td>\n",
              "      <td>md</td>\n",
              "      <td>14.0</td>\n",
              "      <td>115.0</td>\n",
              "      <td>0.004494</td>\n",
              "      <td>0.04</td>\n",
              "      <td>...</td>\n",
              "      <td>0.3</td>\n",
              "      <td>0.36</td>\n",
              "      <td>0.1</td>\n",
              "      <td>5.0</td>\n",
              "      <td>automatic</td>\n",
              "      <td>nc</td>\n",
              "      <td>nc</td>\n",
              "      <td>2022-03-04 21:28:02.440000+00:00</td>\n",
              "      <td>2022-03-04</td>\n",
              "      <td>21:28:02.440000</td>\n",
              "    </tr>\n",
              "  </tbody>\n",
              "</table>\n",
              "<p>1 rows × 25 columns</p>\n",
              "</div>\n",
              "      <button class=\"colab-df-convert\" onclick=\"convertToInteractive('df-909078bf-26ab-4d67-b35e-05f7c2d03b85')\"\n",
              "              title=\"Convert this dataframe to an interactive table.\"\n",
              "              style=\"display:none;\">\n",
              "        \n",
              "  <svg xmlns=\"http://www.w3.org/2000/svg\" height=\"24px\"viewBox=\"0 0 24 24\"\n",
              "       width=\"24px\">\n",
              "    <path d=\"M0 0h24v24H0V0z\" fill=\"none\"/>\n",
              "    <path d=\"M18.56 5.44l.94 2.06.94-2.06 2.06-.94-2.06-.94-.94-2.06-.94 2.06-2.06.94zm-11 1L8.5 8.5l.94-2.06 2.06-.94-2.06-.94L8.5 2.5l-.94 2.06-2.06.94zm10 10l.94 2.06.94-2.06 2.06-.94-2.06-.94-.94-2.06-.94 2.06-2.06.94z\"/><path d=\"M17.41 7.96l-1.37-1.37c-.4-.4-.92-.59-1.43-.59-.52 0-1.04.2-1.43.59L10.3 9.45l-7.72 7.72c-.78.78-.78 2.05 0 2.83L4 21.41c.39.39.9.59 1.41.59.51 0 1.02-.2 1.41-.59l7.78-7.78 2.81-2.81c.8-.78.8-2.07 0-2.86zM5.41 20L4 18.59l7.72-7.72 1.47 1.35L5.41 20z\"/>\n",
              "  </svg>\n",
              "      </button>\n",
              "      \n",
              "  <style>\n",
              "    .colab-df-container {\n",
              "      display:flex;\n",
              "      flex-wrap:wrap;\n",
              "      gap: 12px;\n",
              "    }\n",
              "\n",
              "    .colab-df-convert {\n",
              "      background-color: #E8F0FE;\n",
              "      border: none;\n",
              "      border-radius: 50%;\n",
              "      cursor: pointer;\n",
              "      display: none;\n",
              "      fill: #1967D2;\n",
              "      height: 32px;\n",
              "      padding: 0 0 0 0;\n",
              "      width: 32px;\n",
              "    }\n",
              "\n",
              "    .colab-df-convert:hover {\n",
              "      background-color: #E2EBFA;\n",
              "      box-shadow: 0px 1px 2px rgba(60, 64, 67, 0.3), 0px 1px 3px 1px rgba(60, 64, 67, 0.15);\n",
              "      fill: #174EA6;\n",
              "    }\n",
              "\n",
              "    [theme=dark] .colab-df-convert {\n",
              "      background-color: #3B4455;\n",
              "      fill: #D2E3FC;\n",
              "    }\n",
              "\n",
              "    [theme=dark] .colab-df-convert:hover {\n",
              "      background-color: #434B5C;\n",
              "      box-shadow: 0px 1px 3px 1px rgba(0, 0, 0, 0.15);\n",
              "      filter: drop-shadow(0px 1px 2px rgba(0, 0, 0, 0.3));\n",
              "      fill: #FFFFFF;\n",
              "    }\n",
              "  </style>\n",
              "\n",
              "      <script>\n",
              "        const buttonEl =\n",
              "          document.querySelector('#df-909078bf-26ab-4d67-b35e-05f7c2d03b85 button.colab-df-convert');\n",
              "        buttonEl.style.display =\n",
              "          google.colab.kernel.accessAllowed ? 'block' : 'none';\n",
              "\n",
              "        async function convertToInteractive(key) {\n",
              "          const element = document.querySelector('#df-909078bf-26ab-4d67-b35e-05f7c2d03b85');\n",
              "          const dataTable =\n",
              "            await google.colab.kernel.invokeFunction('convertToInteractive',\n",
              "                                                     [key], {});\n",
              "          if (!dataTable) return;\n",
              "\n",
              "          const docLinkHtml = 'Like what you see? Visit the ' +\n",
              "            '<a target=\"_blank\" href=https://colab.research.google.com/notebooks/data_table.ipynb>data table notebook</a>'\n",
              "            + ' to learn more about interactive tables.';\n",
              "          element.innerHTML = '';\n",
              "          dataTable['output_type'] = 'display_data';\n",
              "          await google.colab.output.renderOutput(dataTable, element);\n",
              "          const docLink = document.createElement('div');\n",
              "          docLink.innerHTML = docLinkHtml;\n",
              "          element.appendChild(docLink);\n",
              "        }\n",
              "      </script>\n",
              "    </div>\n",
              "  </div>\n",
              "  "
            ],
            "text/plain": [
              "         time   latitude   longitude  depth   mag magType   nst    gap  \\\n",
              "239  09:28 PM  38.759666 -122.719666   1.61  1.24      md  14.0  115.0   \n",
              "\n",
              "         dmin   rms  ... horizontalError depthError magError magNst  \\\n",
              "239  0.004494  0.04  ...             0.3       0.36      0.1    5.0   \n",
              "\n",
              "        status  locationSource  magSource                        date_time  \\\n",
              "239  automatic              nc         nc 2022-03-04 21:28:02.440000+00:00   \n",
              "\n",
              "           date    military_time  \n",
              "239  2022-03-04  21:28:02.440000  \n",
              "\n",
              "[1 rows x 25 columns]"
            ]
          },
          "metadata": {},
          "execution_count": 10
        }
      ]
    },
    {
      "cell_type": "markdown",
      "source": [
        "Now that we have the most recent earthquake, we can grab values that we want from it, like the magnitude. "
      ],
      "metadata": {
        "id": "yhF1ppvDL7M1"
      }
    },
    {
      "cell_type": "code",
      "source": [
        "latest.iloc[0][\"mag\"]"
      ],
      "metadata": {
        "id": "gadKCMpCL6Pk",
        "outputId": "ff91f726-d873-43d0-d440-159badb6dbe3",
        "colab": {
          "base_uri": "https://localhost:8080/"
        }
      },
      "execution_count": 11,
      "outputs": [
        {
          "output_type": "execute_result",
          "data": {
            "text/plain": [
              "1.24"
            ]
          },
          "metadata": {},
          "execution_count": 11
        }
      ]
    },
    {
      "cell_type": "markdown",
      "source": [
        "# Create variables to reference for the analysis sentence\n",
        "This code chunk filters the usg_main.csv to calculate:\n",
        "- the number of earthquakes in the dataframe\n",
        "- the earliest earthquake that occured in the dataframe\n",
        "- the latest earthquake that occured in the dataframe \n",
        "- the strongest earthquake that occured in the dataframe  "
      ],
      "metadata": {
        "id": "2OXeqgYxAEQd"
      }
    },
    {
      "cell_type": "code",
      "source": [
        "# Query the dataframe to isolate types of earthquakes, to write a sentence about\n",
        "number_earthquakes = df_main.shape[0] # Return number of rows of dataframe\n",
        "earliest = df_main[df_main[\"date_time\"] == df_main[\"date_time\"].min()]\n",
        "latest = df_main[df_main[\"date_time\"] == df_main[\"date_time\"].max()]  # Return the row with the earliest earthquake since you started recording\n",
        "strongest = df_main[df_main[\"mag\"] == df_main[\"mag\"].max()] # Return the row with the strongest earthquakes since you started recording"
      ],
      "metadata": {
        "id": "w4MCx-V8Z3VP"
      },
      "execution_count": 12,
      "outputs": []
    },
    {
      "cell_type": "markdown",
      "source": [
        "# Write a sentence that dynamically updates\n",
        "\n",
        "This code chunk injects the variables constructed above into an string that updates with the latest variables"
      ],
      "metadata": {
        "id": "8Szl4V2NCHyB"
      }
    },
    {
      "cell_type": "code",
      "source": [
        "# Paste the values into a sentence. If there are earthquakes that happened at the same earliest time or had the same magnitude, we are taking the first row\n",
        "print(f'Since {earliest.iloc[0][\"time\"]} on {earliest.iloc[0][\"date\"].strftime(\"%m/%d/%Y\")} there have been {number_earthquakes} recorded earthquakes. {chr(10)} The most recent earthquake was {latest.iloc[0][\"mag\"]} in magnitude and occured in/near {latest.iloc[0][\"place\"]} on {latest.iloc[0][\"date\"]} at {latest.iloc[0][\"time\"]}.{chr(10)} The strongest earthquakes since the start of this webscraper was {strongest.iloc[0][\"mag\"]} magnitude and occured in/near {strongest.iloc[0][\"place\"]} on {strongest.iloc[0][\"date\"]} at {strongest.iloc[0][\"time\"]}.')"
      ],
      "metadata": {
        "colab": {
          "base_uri": "https://localhost:8080/"
        },
        "id": "5VmqjVs3JmvC",
        "outputId": "cffd2d73-1a58-4908-d869-497db777217c"
      },
      "execution_count": 7,
      "outputs": [
        {
          "output_type": "stream",
          "name": "stdout",
          "text": [
            "Since 09:37 PM on 03/03/2022 there have been 241 recorded earthquakes. \n",
            " The most recent earthquake was 1.24 in magnitude and occured in/near 3km SW of Anderson Springs, CA on 2022-03-04 at 09:28 PM.\n",
            " The strongest earthquakes since the start of this webscraper was 5.4 magnitude and occured in/near 70 km ENE of Kimbe, Papua New Guinea on 2022-03-04 at 07:47 AM.\n"
          ]
        }
      ]
    },
    {
      "cell_type": "code",
      "source": [
        ""
      ],
      "metadata": {
        "id": "d1WRKZ-UQL98"
      },
      "execution_count": 7,
      "outputs": []
    }
  ]
}